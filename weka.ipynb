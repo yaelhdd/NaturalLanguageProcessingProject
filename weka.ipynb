{
  "nbformat": 4,
  "nbformat_minor": 0,
  "metadata": {
    "colab": {
      "name": "weka_to_git.ipynb",
      "provenance": [],
      "collapsed_sections": []
    },
    "kernelspec": {
      "name": "python3",
      "display_name": "Python 3"
    },
    "language_info": {
      "name": "python"
    }
  },
  "cells": [
    {
      "cell_type": "markdown",
      "source": [
        "# Pulling Weka evaluations\n",
        "#### We run each feature vector on several classifiers\n",
        "#### For later analysis, we saved the Accuracy metric results into csv files\n",
        "---\n",
        "#### For convenience, further more options of Weka analysis are can be found at the bottom of the code (marked as comments)"
      ],
      "metadata": {
        "id": "RJEG3amK1q95"
      }
    },
    {
      "cell_type": "code",
      "source": [
        "!pip install python-javabridge --quiet\n",
        "!pip install python-weka-wrapper3 --quiet"
      ],
      "metadata": {
        "id": "DTWiAMtnHXsz"
      },
      "execution_count": null,
      "outputs": []
    },
    {
      "cell_type": "code",
      "source": [
        "from os import path\n",
        "from weka.core.converters import Loader\n",
        "from weka.classifiers import Evaluation, Classifier, PredictionOutput\n",
        "import weka.core.jvm as jvm\n",
        "import weka.core.converters as conv\n",
        "from weka.core.classes import Random\n",
        "import weka.plot.classifiers as plcls  \n",
        "import weka.plot.experiments as plexp  \n",
        "\n",
        "import os\n",
        "import pandas as pd\n",
        "from tqdm import tqdm"
      ],
      "metadata": {
        "id": "YIJgo1caHj6l"
      },
      "execution_count": null,
      "outputs": []
    },
    {
      "cell_type": "code",
      "source": [
        "data_dir  = ''\n",
        "\n",
        "inputs_dir = path.join(main_dir, 'inputs')"
      ],
      "metadata": {
        "id": "qnLW7Jx-sCaz"
      },
      "execution_count": null,
      "outputs": []
    },
    {
      "cell_type": "markdown",
      "source": [
        "<div class=\"alert alert-block alert-info\">\n",
        "<b>Note:</b>  'inputs' directory, which is the result of 'vectors.ipynb', should be stored in the same directory as the notebook\n",
        "</div>"
      ],
      "metadata": {
        "id": "_zmN_uj-4A0p"
      }
    },
    {
      "cell_type": "code",
      "source": [
        "# start jvm\n",
        "jvm.start(packages=True)"
      ],
      "metadata": {
        "id": "wRP-KB2RIHrL"
      },
      "execution_count": null,
      "outputs": []
    },
    {
      "cell_type": "code",
      "source": [
        "def load_data(dir, name):\n",
        "  data = conv.load_any_file(path.join(dir, name))\n",
        "  data.class_is_last()\n",
        "  return data"
      ],
      "metadata": {
        "id": "3pvfep32uqDw"
      },
      "execution_count": null,
      "outputs": []
    },
    {
      "cell_type": "code",
      "source": [
        "def configure_classifier(classname):\n",
        "  cls = Classifier(classname=\"weka.classifiers.\" + classname)\n",
        "  cls.build_classifier(data)\n",
        "  return cls"
      ],
      "metadata": {
        "id": "p-aNWDbyvGO-"
      },
      "execution_count": null,
      "outputs": []
    },
    {
      "cell_type": "code",
      "source": [
        "def cross_valid_evaluate(cls, data):\n",
        "  pout = PredictionOutput(classname=\"weka.classifiers.evaluation.output.prediction.PlainText\")\n",
        "  evaluation = Evaluation(data)\n",
        "  evaluation.crossvalidate_model(cls, data, 10, Random(1), pout)\n",
        "  return evaluation"
      ],
      "metadata": {
        "id": "hBRNZShavjry"
      },
      "execution_count": null,
      "outputs": []
    },
    {
      "cell_type": "code",
      "source": [
        "def get_accuaracy(evaluation):\n",
        "  return evaluation.summary().split('\\n')[1].split('               ')[-1].split(' %')[0]"
      ],
      "metadata": {
        "id": "B2KADTabwDRS"
      },
      "execution_count": null,
      "outputs": []
    },
    {
      "cell_type": "code",
      "source": [
        "accuracies_dict = {'inputs':{},\n",
        "                   'inputs_rand':{},\n",
        "                   'inputs_reg':{}}\n",
        "\n",
        "dir_names = ['inputs', 'inputs_rand', 'inputs_reg']\n",
        "\n",
        "cls_names = ['functions.SimpleLogistic', 'functions.MultilayerPerceptron', 'bayes.NaiveBayes']"
      ],
      "metadata": {
        "id": "vENoBRmAx5yD"
      },
      "execution_count": null,
      "outputs": []
    },
    {
      "cell_type": "code",
      "source": [
        "\n",
        "for dir_name in tqdm(dir_names):\n",
        "  dir = path.join(main_dir, dir_name)\n",
        "\n",
        "  for file in sorted(os.listdir(dir)):\n",
        "    file_name = file.split('.csv')[0]\n",
        "    accuracies_dict[dir_name].update({file_name: {}})\n",
        "\n",
        "    for cls_name in cls_names:\n",
        "      data = load_data(dir, file)\n",
        "      cls = configure_classifier(cls_name)\n",
        "      evaluation = cross_valid_evaluate(cls, data)\n",
        "      accuracies_dict[dir_name][file_name].update({cls_name : get_accuaracy(evaluation)})\n",
        "\n",
        "\n"
      ],
      "metadata": {
        "id": "wjueikEkwaMM"
      },
      "execution_count": null,
      "outputs": []
    },
    {
      "cell_type": "code",
      "source": [
        "# stop jvm\n",
        "jvm.stop()"
      ],
      "metadata": {
        "id": "ZkOg3xgG_5WH"
      },
      "execution_count": null,
      "outputs": []
    },
    {
      "cell_type": "code",
      "source": [
        "df_inputs = pd.DataFrame.from_dict(accuracies_dict['inputs'], orient='index')\n",
        "df_inputs_rand = pd.DataFrame.from_dict(accuracies_dict['inputs_rand'], orient='index')\n",
        "df_inputs_reg = pd.DataFrame.from_dict(accuracies_dict['inputs_reg'], orient='index')\n",
        "\n",
        "df_inputs"
      ],
      "metadata": {
        "id": "0HS9DVbQ_7Z-"
      },
      "execution_count": null,
      "outputs": []
    },
    {
      "cell_type": "code",
      "source": [
        "df_inputs_rand"
      ],
      "metadata": {
        "id": "W2jI4MM57XgI"
      },
      "execution_count": null,
      "outputs": []
    },
    {
      "cell_type": "code",
      "source": [
        "df_inputs_reg"
      ],
      "metadata": {
        "id": "YnvoTI677c2u",
        "colab": {
          "base_uri": "https://localhost:8080/",
          "height": 426
        },
        "outputId": "86325174-4f91-4468-8ae3-703cb1b5a57b"
      },
      "execution_count": null,
      "outputs": [
        {
          "output_type": "execute_result",
          "data": {
            "text/html": [
              "\n",
              "  <div id=\"df-8e2f5e5e-f0a1-45d5-b1f1-8f2a3a4578b1\">\n",
              "    <div class=\"colab-df-container\">\n",
              "      <div>\n",
              "<style scoped>\n",
              "    .dataframe tbody tr th:only-of-type {\n",
              "        vertical-align: middle;\n",
              "    }\n",
              "\n",
              "    .dataframe tbody tr th {\n",
              "        vertical-align: top;\n",
              "    }\n",
              "\n",
              "    .dataframe thead th {\n",
              "        text-align: right;\n",
              "    }\n",
              "</style>\n",
              "<table border=\"1\" class=\"dataframe\">\n",
              "  <thead>\n",
              "    <tr style=\"text-align: right;\">\n",
              "      <th></th>\n",
              "      <th>functions.SimpleLogistic</th>\n",
              "      <th>functions.MultilayerPerceptron</th>\n",
              "      <th>bayes.NaiveBayes</th>\n",
              "    </tr>\n",
              "  </thead>\n",
              "  <tbody>\n",
              "    <tr>\n",
              "      <th>morph_lemma2</th>\n",
              "      <td>32.9114</td>\n",
              "      <td>45.5696</td>\n",
              "      <td>37.9747</td>\n",
              "    </tr>\n",
              "    <tr>\n",
              "      <th>morph_lemma4</th>\n",
              "      <td>37.9747</td>\n",
              "      <td>39.2405</td>\n",
              "      <td>41.7722</td>\n",
              "    </tr>\n",
              "    <tr>\n",
              "      <th>morph_syn2</th>\n",
              "      <td>30.3797</td>\n",
              "      <td>26.5823</td>\n",
              "      <td>25.3165</td>\n",
              "    </tr>\n",
              "    <tr>\n",
              "      <th>morph_syn4</th>\n",
              "      <td>27.8481</td>\n",
              "      <td>24.0506</td>\n",
              "      <td>34.1772</td>\n",
              "    </tr>\n",
              "    <tr>\n",
              "      <th>morpho2</th>\n",
              "      <td>39.2405</td>\n",
              "      <td>44.3038</td>\n",
              "      <td>44.3038</td>\n",
              "    </tr>\n",
              "    <tr>\n",
              "      <th>morpho4</th>\n",
              "      <td>40.5063</td>\n",
              "      <td>35.443</td>\n",
              "      <td>43.038</td>\n",
              "    </tr>\n",
              "    <tr>\n",
              "      <th>syn_lemma2</th>\n",
              "      <td>37.9747</td>\n",
              "      <td>40.5063</td>\n",
              "      <td>43.038</td>\n",
              "    </tr>\n",
              "    <tr>\n",
              "      <th>syn_lemma4</th>\n",
              "      <td>41.7722</td>\n",
              "      <td>49.3671</td>\n",
              "      <td>43.038</td>\n",
              "    </tr>\n",
              "    <tr>\n",
              "      <th>syntax2</th>\n",
              "      <td>32.9114</td>\n",
              "      <td>41.7722</td>\n",
              "      <td>35.443</td>\n",
              "    </tr>\n",
              "    <tr>\n",
              "      <th>syntax4</th>\n",
              "      <td>32.9114</td>\n",
              "      <td>35.443</td>\n",
              "      <td>34.1772</td>\n",
              "    </tr>\n",
              "    <tr>\n",
              "      <th>vocab2</th>\n",
              "      <td>40.5063</td>\n",
              "      <td>49.3671</td>\n",
              "      <td>41.7722</td>\n",
              "    </tr>\n",
              "    <tr>\n",
              "      <th>vocab4</th>\n",
              "      <td>49.3671</td>\n",
              "      <td>49.3671</td>\n",
              "      <td>51.8987</td>\n",
              "    </tr>\n",
              "  </tbody>\n",
              "</table>\n",
              "</div>\n",
              "      <button class=\"colab-df-convert\" onclick=\"convertToInteractive('df-8e2f5e5e-f0a1-45d5-b1f1-8f2a3a4578b1')\"\n",
              "              title=\"Convert this dataframe to an interactive table.\"\n",
              "              style=\"display:none;\">\n",
              "        \n",
              "  <svg xmlns=\"http://www.w3.org/2000/svg\" height=\"24px\"viewBox=\"0 0 24 24\"\n",
              "       width=\"24px\">\n",
              "    <path d=\"M0 0h24v24H0V0z\" fill=\"none\"/>\n",
              "    <path d=\"M18.56 5.44l.94 2.06.94-2.06 2.06-.94-2.06-.94-.94-2.06-.94 2.06-2.06.94zm-11 1L8.5 8.5l.94-2.06 2.06-.94-2.06-.94L8.5 2.5l-.94 2.06-2.06.94zm10 10l.94 2.06.94-2.06 2.06-.94-2.06-.94-.94-2.06-.94 2.06-2.06.94z\"/><path d=\"M17.41 7.96l-1.37-1.37c-.4-.4-.92-.59-1.43-.59-.52 0-1.04.2-1.43.59L10.3 9.45l-7.72 7.72c-.78.78-.78 2.05 0 2.83L4 21.41c.39.39.9.59 1.41.59.51 0 1.02-.2 1.41-.59l7.78-7.78 2.81-2.81c.8-.78.8-2.07 0-2.86zM5.41 20L4 18.59l7.72-7.72 1.47 1.35L5.41 20z\"/>\n",
              "  </svg>\n",
              "      </button>\n",
              "      \n",
              "  <style>\n",
              "    .colab-df-container {\n",
              "      display:flex;\n",
              "      flex-wrap:wrap;\n",
              "      gap: 12px;\n",
              "    }\n",
              "\n",
              "    .colab-df-convert {\n",
              "      background-color: #E8F0FE;\n",
              "      border: none;\n",
              "      border-radius: 50%;\n",
              "      cursor: pointer;\n",
              "      display: none;\n",
              "      fill: #1967D2;\n",
              "      height: 32px;\n",
              "      padding: 0 0 0 0;\n",
              "      width: 32px;\n",
              "    }\n",
              "\n",
              "    .colab-df-convert:hover {\n",
              "      background-color: #E2EBFA;\n",
              "      box-shadow: 0px 1px 2px rgba(60, 64, 67, 0.3), 0px 1px 3px 1px rgba(60, 64, 67, 0.15);\n",
              "      fill: #174EA6;\n",
              "    }\n",
              "\n",
              "    [theme=dark] .colab-df-convert {\n",
              "      background-color: #3B4455;\n",
              "      fill: #D2E3FC;\n",
              "    }\n",
              "\n",
              "    [theme=dark] .colab-df-convert:hover {\n",
              "      background-color: #434B5C;\n",
              "      box-shadow: 0px 1px 3px 1px rgba(0, 0, 0, 0.15);\n",
              "      filter: drop-shadow(0px 1px 2px rgba(0, 0, 0, 0.3));\n",
              "      fill: #FFFFFF;\n",
              "    }\n",
              "  </style>\n",
              "\n",
              "      <script>\n",
              "        const buttonEl =\n",
              "          document.querySelector('#df-8e2f5e5e-f0a1-45d5-b1f1-8f2a3a4578b1 button.colab-df-convert');\n",
              "        buttonEl.style.display =\n",
              "          google.colab.kernel.accessAllowed ? 'block' : 'none';\n",
              "\n",
              "        async function convertToInteractive(key) {\n",
              "          const element = document.querySelector('#df-8e2f5e5e-f0a1-45d5-b1f1-8f2a3a4578b1');\n",
              "          const dataTable =\n",
              "            await google.colab.kernel.invokeFunction('convertToInteractive',\n",
              "                                                     [key], {});\n",
              "          if (!dataTable) return;\n",
              "\n",
              "          const docLinkHtml = 'Like what you see? Visit the ' +\n",
              "            '<a target=\"_blank\" href=https://colab.research.google.com/notebooks/data_table.ipynb>data table notebook</a>'\n",
              "            + ' to learn more about interactive tables.';\n",
              "          element.innerHTML = '';\n",
              "          dataTable['output_type'] = 'display_data';\n",
              "          await google.colab.output.renderOutput(dataTable, element);\n",
              "          const docLink = document.createElement('div');\n",
              "          docLink.innerHTML = docLinkHtml;\n",
              "          element.appendChild(docLink);\n",
              "        }\n",
              "      </script>\n",
              "    </div>\n",
              "  </div>\n",
              "  "
            ],
            "text/plain": [
              "             functions.SimpleLogistic  ... bayes.NaiveBayes\n",
              "morph_lemma2                  32.9114  ...          37.9747\n",
              "morph_lemma4                  37.9747  ...          41.7722\n",
              "morph_syn2                    30.3797  ...          25.3165\n",
              "morph_syn4                    27.8481  ...          34.1772\n",
              "morpho2                       39.2405  ...          44.3038\n",
              "morpho4                       40.5063  ...          43.038 \n",
              "syn_lemma2                    37.9747  ...          43.038 \n",
              "syn_lemma4                    41.7722  ...          43.038 \n",
              "syntax2                       32.9114  ...          35.443 \n",
              "syntax4                       32.9114  ...          34.1772\n",
              "vocab2                        40.5063  ...          41.7722\n",
              "vocab4                        49.3671  ...          51.8987\n",
              "\n",
              "[12 rows x 3 columns]"
            ]
          },
          "metadata": {},
          "execution_count": 15
        }
      ]
    },
    {
      "cell_type": "markdown",
      "source": [
        "# Save to Excel files in dir 'summary'"
      ],
      "metadata": {
        "id": "GafacUh__Zsa"
      }
    },
    {
      "cell_type": "code",
      "source": [
        "if not path.exists(path.join(main_dir,'summary')):\n",
        "    os.mkdir(path.join(main_dir,'summary'))\n",
        "df_inputs.to_excel(path.join(main_dir,'summary', 'inputs_sum.xlsx'))\n",
        "df_inputs_rand.to_excel(path.join(main_dir,'summary','inputs_rand_sum.xlsx'))\n",
        "df_inputs_reg.to_excel(path.join(main_dir,'summary','inputs_reg_sum.xlsx'))"
      ],
      "metadata": {
        "id": "MEHssVTk7wai"
      },
      "execution_count": null,
      "outputs": []
    },
    {
      "cell_type": "code",
      "source": [
        "# print(\"areaUnderPRC/0: \" + str(evaluation.area_under_prc(0)))\n",
        "# print(\"weightedAreaUnderPRC: \" + str(evaluation.weighted_area_under_prc))\n",
        "# print(\"areaUnderROC/1: \" + str(evaluation.area_under_roc(1)))\n",
        "# print(\"weightedAreaUnderROC: \" + str(evaluation.weighted_area_under_roc))\n",
        "# print(\"avgCost: \" + str(evaluation.avg_cost))\n",
        "# print(\"totalCost: \" + str(evaluation.total_cost))\n",
        "# print(\"confusionMatrix: \" + str(evaluation.confusion_matrix))\n",
        "# print(\"correct: \" + str(evaluation.correct))\n",
        "# print(\"pctCorrect: \" + str(evaluation.percent_correct))\n",
        "# print(\"incorrect: \" + str(evaluation.incorrect))\n",
        "# print(\"pctIncorrect: \" + str(evaluation.percent_incorrect))\n",
        "# print(\"unclassified: \" + str(evaluation.unclassified))\n",
        "# print(\"pctUnclassified: \" + str(evaluation.percent_unclassified))\n",
        "# print(\"coverageOfTestCasesByPredictedRegions: \" + str(evaluation.coverage_of_test_cases_by_predicted_regions))\n",
        "# print(\"sizeOfPredictedRegions: \" + str(evaluation.size_of_predicted_regions))\n",
        "# print(\"falseNegativeRate: \" + str(evaluation.false_negative_rate(1)))\n",
        "# print(\"weightedFalseNegativeRate: \" + str(evaluation.weighted_false_negative_rate))\n",
        "# print(\"numFalseNegatives: \" + str(evaluation.num_false_negatives(1)))\n",
        "# print(\"trueNegativeRate: \" + str(evaluation.true_negative_rate(1)))\n",
        "# print(\"weightedTrueNegativeRate: \" + str(evaluation.weighted_true_negative_rate))\n",
        "# print(\"numTrueNegatives: \" + str(evaluation.num_true_negatives(1)))\n",
        "# print(\"falsePositiveRate: \" + str(evaluation.false_positive_rate(1)))\n",
        "# print(\"weightedFalsePositiveRate: \" + str(evaluation.weighted_false_positive_rate))\n",
        "# print(\"numFalsePositives: \" + str(evaluation.num_false_positives(1)))\n",
        "# print(\"truePositiveRate: \" + str(evaluation.true_positive_rate(1)))\n",
        "# print(\"weightedTruePositiveRate: \" + str(evaluation.weighted_true_positive_rate))\n",
        "# print(\"numTruePositives: \" + str(evaluation.num_true_positives(1)))\n",
        "# print(\"fMeasure: \" + str(evaluation.f_measure(1)))\n",
        "# print(\"weightedFMeasure: \" + str(evaluation.weighted_f_measure))\n",
        "# print(\"unweightedMacroFmeasure: \" + str(evaluation.unweighted_macro_f_measure))\n",
        "# print(\"unweightedMicroFmeasure: \" + str(evaluation.unweighted_micro_f_measure))\n",
        "# print(\"precision: \" + str(evaluation.precision(1)))\n",
        "# print(\"weightedPrecision: \" + str(evaluation.weighted_precision))\n",
        "# print(\"recall: \" + str(evaluation.recall(1)))\n",
        "# print(\"weightedRecall: \" + str(evaluation.weighted_recall))\n",
        "# print(\"kappa: \" + str(evaluation.kappa))\n",
        "# print(\"KBInformation: \" + str(evaluation.kb_information))\n",
        "# print(\"KBMeanInformation: \" + str(evaluation.kb_mean_information))\n",
        "# print(\"KBRelativeInformation: \" + str(evaluation.kb_relative_information))\n",
        "# print(\"SFEntropyGain: \" + str(evaluation.sf_entropy_gain))\n",
        "# print(\"SFMeanEntropyGain: \" + str(evaluation.sf_mean_entropy_gain))\n",
        "# print(\"SFMeanPriorEntropy: \" + str(evaluation.sf_mean_prior_entropy))\n",
        "# print(\"SFMeanSchemeEntropy: \" + str(evaluation.sf_mean_scheme_entropy))\n",
        "# print(\"matthewsCorrelationCoefficient: \" + str(evaluation.matthews_correlation_coefficient(1)))\n",
        "# print(\"weightedMatthewsCorrelation: \" + str(evaluation.weighted_matthews_correlation))\n",
        "# print(\"class priors: \" + str(evaluation.class_priors))\n",
        "# print(\"numInstances: \" + str(evaluation.num_instances))\n",
        "# print(\"meanAbsoluteError: \" + str(evaluation.mean_absolute_error))\n",
        "# print(\"meanPriorAbsoluteError: \" + str(evaluation.mean_prior_absolute_error))\n",
        "# print(\"relativeAbsoluteError: \" + str(evaluation.relative_absolute_error))\n",
        "# print(\"rootMeanSquaredError: \" + str(evaluation.root_mean_squared_error))\n",
        "# print(\"rootMeanPriorSquaredError: \" + str(evaluation.root_mean_prior_squared_error))\n",
        "# print(\"rootRelativeSquaredError: \" + str(evaluation.root_relative_squared_error))\n",
        "# print(\"prediction output:\\n\" + str(pout))\n",
        "\n",
        "# #plot ROC\n",
        "\n",
        "# plcls.plot_roc(evaluation, class_index=[0, 1], wait=True)\n",
        "# print()\n",
        "# # plot errors\n",
        "# plcls.plot_classifier_errors(evaluation.predictions, absolute=False, wait=True)\n",
        "\n",
        "\n"
      ],
      "metadata": {
        "id": "VcPqSgONHcAP"
      },
      "execution_count": null,
      "outputs": []
    }
  ]
}